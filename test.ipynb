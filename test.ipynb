{
 "cells": [
  {
   "cell_type": "code",
   "execution_count": 2,
   "metadata": {},
   "outputs": [
    {
     "name": "stdout",
     "output_type": "stream",
     "text": [
      "{\"api_request\": {\"error\": {}, \"resources\": [\"document\"], \"status\": \"success\", \"status_code\": 201, \"url\": \"https://api.mindee.net/v1/products/mindee/expense_receipts/v5/predict\"}, \"document\": {\"id\": \"dda13b3b-e629-4088-9d0c-c30535a94f03\", \"inference\": {\"extras\": {}, \"finished_at\": \"2024-05-15T21:35:05.742987\", \"is_rotation_applied\": true, \"pages\": [{\"extras\": {}, \"id\": 0, \"orientation\": {\"value\": 0}, \"prediction\": {\"category\": {\"confidence\": 0.78, \"value\": \"miscellaneous\"}, \"date\": {\"confidence\": 0.99, \"polygon\": [[0.404, 0.825], [0.558, 0.825], [0.558, 0.845], [0.404, 0.845]], \"value\": \"2016-04-24\"}, \"document_type\": {\"confidence\": 0.8, \"value\": \"EXPENSE RECEIPT\"}, \"line_items\": [{\"confidence\": 0.96, \"description\": \"ORANGES\", \"polygon\": [[0.212, 0.144], [0.902, 0.144], [0.902, 0.164], [0.212, 0.164]], \"quantity\": null, \"total_amount\": 5.98, \"unit_price\": null}, {\"confidence\": 0.88, \"description\": \"AP 0 P 990 Rota @ GALA S1.30/kg\", \"polygon\": [[0.09, 0.175], [0.903, 0.175], [0.903, 0.212], [0.09, 0.212]], \"quantity\": null, \"total_amount\": 1.29, \"unit_price\": null}, {\"confidence\": 0.95, \"description\": \"SEE D 00 kg @ $5.47/kg ESS MEDIUM\", \"polygon\": [[0.09, 0.206], [0.905, 0.206], [0.905, 0.242], [0.09, 0.242]], \"quantity\": null, \"total_amount\": 5.47, \"unit_price\": null}, {\"confidence\": 0.69, \"description\": \"2/53.00\", \"polygon\": [[0.176, 0.239], [0.905, 0.239], [0.905, 0.259], [0.176, 0.259]], \"quantity\": null, \"total_amount\": 1.5, \"unit_price\": null}, {\"confidence\": 0.72, \"description\": \"S avi Rafaouss\", \"polygon\": [[0.112, 0.26], [0.901, 0.26], [0.901, 0.327], [0.112, 0.327]], \"quantity\": null, \"total_amount\": 4.11, \"unit_price\": null}, {\"confidence\": 0.96, \"description\": \"GARLIC Saving 0.60\", \"polygon\": [[0.094, 0.323], [0.9, 0.323], [0.9, 0.36], [0.094, 0.36]], \"quantity\": null, \"total_amount\": 1.28, \"unit_price\": null}, {\"confidence\": 0.89, \"description\": \"HBC DAIRY HOIST MILK\", \"polygon\": [[0.055, 0.363], [0.897, 0.363], [0.897, 0.425], [0.055, 0.425]], \"quantity\": null, \"total_amount\": 5.99, \"unit_price\": null}, {\"confidence\": 0.91, \"description\": \"3 @ $5.89\", \"polygon\": [[0.138, 0.425], [0.896, 0.425], [0.896, 0.442], [0.138, 0.442]], \"quantity\": null, \"total_amount\": 17.67, \"unit_price\": null}, {\"confidence\": 0.95, \"description\": \"NESTLE S U B T MILKSHAKE OT A L\", \"polygon\": [[0.06, 0.441], [0.896, 0.441], [0.896, 0.473], [0.06, 0.473]], \"quantity\": null, \"total_amount\": 2.99, \"unit_price\": null}], \"locale\": {\"confidence\": 0.73, \"country\": \"CA\", \"currency\": \"CAD\", \"language\": \"en\", \"value\": \"en-CA\"}, \"orientation\": {\"confidence\": 0.99, \"degrees\": 0}, \"subcategory\": {\"confidence\": 0.0, \"value\": null}, \"supplier_address\": {\"confidence\": 0.89, \"polygon\": [[0.082, 0.677], [0.182, 0.677], [0.182, 0.707], [0.082, 0.707]], \"value\": \"f 0 1 0 0 0\"}, \"supplier_company_registrations\": [{\"confidence\": 0.87, \"polygon\": [[0.533, 0.1], [0.736, 0.1], [0.736, 0.113], [0.533, 0.113]], \"type\": \"GST_HST_CA\", \"value\": \"105216170\"}], \"supplier_name\": {\"confidence\": 0.97, \"polygon\": [[0.315, 0.021], [0.578, 0.021], [0.578, 0.062], [0.315, 0.062]], \"raw_value\": \"Basics\", \"value\": \"BASICS\"}, \"supplier_phone_number\": {\"confidence\": 0.79, \"polygon\": [[0.487, 0.083], [0.733, 0.083], [0.733, 0.101], [0.487, 0.101]], \"value\": \"9058406669\"}, \"taxes\": [{\"base\": 8.98, \"code\": \"HST\", \"confidence\": 0.99, \"polygon\": [[0.298, 0.472], [0.892, 0.472], [0.892, 0.488], [0.298, 0.488]], \"rate\": 13.0, \"value\": 1.17}], \"time\": {\"confidence\": 0.99, \"polygon\": [[0.752, 0.975], [0.91, 0.975], [0.91, 0.992], [0.752, 0.992]], \"value\": \"19:58\"}, \"tip\": {\"confidence\": 0.0, \"polygon\": [], \"value\": null}, \"total_amount\": {\"confidence\": 0.99, \"polygon\": [[0.779, 0.776], [0.878, 0.776], [0.878, 0.793], [0.779, 0.793]], \"value\": 47.45}, \"total_net\": {\"confidence\": 0.0, \"polygon\": [], \"value\": null}, \"total_tax\": {\"confidence\": 0.99, \"polygon\": [], \"value\": 1.17}}}], \"prediction\": {\"category\": {\"confidence\": 0.78, \"value\": \"miscellaneous\"}, \"date\": {\"confidence\": 0.99, \"page_id\": 0, \"polygon\": [[0.404, 0.825], [0.558, 0.825], [0.558, 0.845], [0.404, 0.845]], \"value\": \"2016-04-24\"}, \"document_type\": {\"confidence\": 0.8, \"value\": \"EXPENSE RECEIPT\"}, \"line_items\": [{\"confidence\": 0.96, \"description\": \"ORANGES\", \"page_id\": 0, \"polygon\": [[0.212, 0.144], [0.902, 0.144], [0.902, 0.164], [0.212, 0.164]], \"quantity\": null, \"total_amount\": 5.98, \"unit_price\": null}, {\"confidence\": 0.88, \"description\": \"AP 0 P 990 Rota @ GALA S1.30/kg\", \"page_id\": 0, \"polygon\": [[0.09, 0.175], [0.903, 0.175], [0.903, 0.212], [0.09, 0.212]], \"quantity\": null, \"total_amount\": 1.29, \"unit_price\": null}, {\"confidence\": 0.95, \"description\": \"SEE D 00 kg @ $5.47/kg ESS MEDIUM\", \"page_id\": 0, \"polygon\": [[0.09, 0.206], [0.905, 0.206], [0.905, 0.242], [0.09, 0.242]], \"quantity\": null, \"total_amount\": 5.47, \"unit_price\": null}, {\"confidence\": 0.69, \"description\": \"2/53.00\", \"page_id\": 0, \"polygon\": [[0.176, 0.239], [0.905, 0.239], [0.905, 0.259], [0.176, 0.259]], \"quantity\": null, \"total_amount\": 1.5, \"unit_price\": null}, {\"confidence\": 0.72, \"description\": \"S avi Rafaouss\", \"page_id\": 0, \"polygon\": [[0.112, 0.26], [0.901, 0.26], [0.901, 0.327], [0.112, 0.327]], \"quantity\": null, \"total_amount\": 4.11, \"unit_price\": null}, {\"confidence\": 0.96, \"description\": \"GARLIC Saving 0.60\", \"page_id\": 0, \"polygon\": [[0.094, 0.323], [0.9, 0.323], [0.9, 0.36], [0.094, 0.36]], \"quantity\": null, \"total_amount\": 1.28, \"unit_price\": null}, {\"confidence\": 0.89, \"description\": \"HBC DAIRY HOIST MILK\", \"page_id\": 0, \"polygon\": [[0.055, 0.363], [0.897, 0.363], [0.897, 0.425], [0.055, 0.425]], \"quantity\": null, \"total_amount\": 5.99, \"unit_price\": null}, {\"confidence\": 0.91, \"description\": \"3 @ $5.89\", \"page_id\": 0, \"polygon\": [[0.138, 0.425], [0.896, 0.425], [0.896, 0.442], [0.138, 0.442]], \"quantity\": null, \"total_amount\": 17.67, \"unit_price\": null}, {\"confidence\": 0.95, \"description\": \"NESTLE S U B T MILKSHAKE OT A L\", \"page_id\": 0, \"polygon\": [[0.06, 0.441], [0.896, 0.441], [0.896, 0.473], [0.06, 0.473]], \"quantity\": null, \"total_amount\": 2.99, \"unit_price\": null}], \"locale\": {\"confidence\": 0.73, \"country\": \"CA\", \"currency\": \"CAD\", \"language\": \"en\", \"value\": \"en-CA\"}, \"subcategory\": {\"confidence\": 0.0, \"value\": null}, \"supplier_address\": {\"confidence\": 0.89, \"page_id\": 0, \"polygon\": [[0.082, 0.677], [0.182, 0.677], [0.182, 0.707], [0.082, 0.707]], \"value\": \"f 0 1 0 0 0\"}, \"supplier_company_registrations\": [{\"confidence\": 0.87, \"page_id\": 0, \"polygon\": [[0.533, 0.1], [0.736, 0.1], [0.736, 0.113], [0.533, 0.113]], \"type\": \"GST_HST_CA\", \"value\": \"105216170\"}], \"supplier_name\": {\"confidence\": 0.97, \"page_id\": 0, \"polygon\": [[0.315, 0.021], [0.578, 0.021], [0.578, 0.062], [0.315, 0.062]], \"raw_value\": \"Basics\", \"value\": \"BASICS\"}, \"supplier_phone_number\": {\"confidence\": 0.79, \"page_id\": 0, \"polygon\": [[0.487, 0.083], [0.733, 0.083], [0.733, 0.101], [0.487, 0.101]], \"value\": \"9058406669\"}, \"taxes\": [{\"base\": 8.98, \"code\": \"HST\", \"confidence\": 0.99, \"page_id\": 0, \"polygon\": [[0.298, 0.472], [0.892, 0.472], [0.892, 0.488], [0.298, 0.488]], \"rate\": 13.0, \"value\": 1.17}], \"time\": {\"confidence\": 0.99, \"page_id\": 0, \"polygon\": [[0.752, 0.975], [0.91, 0.975], [0.91, 0.992], [0.752, 0.992]], \"value\": \"19:58\"}, \"tip\": {\"confidence\": 0.0, \"page_id\": null, \"polygon\": [], \"value\": null}, \"total_amount\": {\"confidence\": 0.99, \"page_id\": 0, \"polygon\": [[0.779, 0.776], [0.878, 0.776], [0.878, 0.793], [0.779, 0.793]], \"value\": 47.45}, \"total_net\": {\"confidence\": 0.0, \"page_id\": null, \"polygon\": [], \"value\": null}, \"total_tax\": {\"confidence\": 0.99, \"page_id\": null, \"polygon\": [], \"value\": 1.17}}, \"processing_time\": 1.198, \"product\": {\"features\": [\"locale\", \"category\", \"subcategory\", \"document_type\", \"date\", \"time\", \"total_amount\", \"total_net\", \"total_tax\", \"tip\", \"taxes\", \"supplier_name\", \"supplier_company_registrations\", \"supplier_address\", \"supplier_phone_number\", \"orientation\", \"line_items\"], \"name\": \"mindee/expense_receipts\", \"type\": \"standard\", \"version\": \"5.1\"}, \"started_at\": \"2024-05-15T21:35:04.545258\"}, \"n_pages\": 1, \"name\": \"IMG_0016.jpg\"}}\n"
     ]
    }
   ],
   "source": [
    "import requests\n",
    "\n",
    "url = \"https://api.mindee.net/v1/products/mindee/expense_receipts/v5/predict\"\n",
    "\n",
    "with open(\"./expense_receipts/IMG_0016.jpg\", \"rb\") as myfile:\n",
    "    files = {\"document\": myfile}\n",
    "    headers = {\"Authorization\": \"9dc96ec403fdc8d5fca0e35c45df9d83\"}\n",
    "    response = requests.post(url, files=files, headers=headers)\n",
    "    print(response.text)"
   ]
  }
 ],
 "metadata": {
  "kernelspec": {
   "display_name": "Python 3",
   "language": "python",
   "name": "python3"
  },
  "language_info": {
   "codemirror_mode": {
    "name": "ipython",
    "version": 3
   },
   "file_extension": ".py",
   "mimetype": "text/x-python",
   "name": "python",
   "nbconvert_exporter": "python",
   "pygments_lexer": "ipython3",
   "version": "3.9.5"
  }
 },
 "nbformat": 4,
 "nbformat_minor": 2
}
