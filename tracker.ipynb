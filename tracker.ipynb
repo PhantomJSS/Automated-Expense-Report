{
 "cells": [
  {
   "cell_type": "code",
   "execution_count": 20,
   "metadata": {},
   "outputs": [
    {
     "name": "stdout",
     "output_type": "stream",
     "text": [
      "Requirement already satisfied: mindee in c:\\users\\sangh\\appdata\\local\\programs\\python\\python39\\lib\\site-packages (4.6.0)\n",
      "Requirement already satisfied: pikepdf~=8.6 in c:\\users\\sangh\\appdata\\local\\programs\\python\\python39\\lib\\site-packages (from mindee) (8.15.1)\n",
      "Requirement already satisfied: requests~=2.31 in c:\\users\\sangh\\appdata\\local\\programs\\python\\python39\\lib\\site-packages (from mindee) (2.31.0)\n",
      "Requirement already satisfied: pytz>=2023.3 in c:\\users\\sangh\\appdata\\local\\programs\\python\\python39\\lib\\site-packages (from mindee) (2024.1)\n",
      "Requirement already satisfied: Pillow>=10.0.1 in c:\\users\\sangh\\appdata\\local\\programs\\python\\python39\\lib\\site-packages (from pikepdf~=8.6->mindee) (10.3.0)\n",
      "Requirement already satisfied: lxml>=4.8 in c:\\users\\sangh\\appdata\\local\\programs\\python\\python39\\lib\\site-packages (from pikepdf~=8.6->mindee) (5.2.2)\n",
      "Requirement already satisfied: packaging in c:\\users\\sangh\\appdata\\roaming\\python\\python39\\site-packages (from pikepdf~=8.6->mindee) (24.0)\n",
      "Requirement already satisfied: Deprecated in c:\\users\\sangh\\appdata\\local\\programs\\python\\python39\\lib\\site-packages (from pikepdf~=8.6->mindee) (1.2.14)\n",
      "Requirement already satisfied: charset-normalizer<4,>=2 in c:\\users\\sangh\\appdata\\local\\programs\\python\\python39\\lib\\site-packages (from requests~=2.31->mindee) (3.3.2)\n",
      "Requirement already satisfied: idna<4,>=2.5 in c:\\users\\sangh\\appdata\\local\\programs\\python\\python39\\lib\\site-packages (from requests~=2.31->mindee) (3.7)\n",
      "Requirement already satisfied: urllib3<3,>=1.21.1 in c:\\users\\sangh\\appdata\\local\\programs\\python\\python39\\lib\\site-packages (from requests~=2.31->mindee) (2.2.1)\n",
      "Requirement already satisfied: certifi>=2017.4.17 in c:\\users\\sangh\\appdata\\local\\programs\\python\\python39\\lib\\site-packages (from requests~=2.31->mindee) (2024.2.2)\n",
      "Requirement already satisfied: wrapt<2,>=1.10 in c:\\users\\sangh\\appdata\\local\\programs\\python\\python39\\lib\\site-packages (from Deprecated->pikepdf~=8.6->mindee) (1.16.0)\n",
      "Note: you may need to restart the kernel to use updated packages.\n"
     ]
    },
    {
     "name": "stderr",
     "output_type": "stream",
     "text": [
      "WARNING: You are using pip version 21.1.1; however, version 24.0 is available.\n",
      "You should consider upgrading via the 'c:\\Users\\sangh\\AppData\\Local\\Programs\\Python\\Python39\\python.exe -m pip install --upgrade pip' command.\n"
     ]
    }
   ],
   "source": [
    "%pip install mindee"
   ]
  },
  {
   "cell_type": "code",
   "execution_count": 21,
   "metadata": {},
   "outputs": [
    {
     "name": "stdout",
     "output_type": "stream",
     "text": [
      "Requirement already satisfied: pandas in c:\\users\\sangh\\appdata\\local\\programs\\python\\python39\\lib\\site-packages (2.2.2)\n",
      "Requirement already satisfied: pytz>=2020.1 in c:\\users\\sangh\\appdata\\local\\programs\\python\\python39\\lib\\site-packages (from pandas) (2024.1)\n",
      "Requirement already satisfied: tzdata>=2022.7 in c:\\users\\sangh\\appdata\\local\\programs\\python\\python39\\lib\\site-packages (from pandas) (2024.1)\n",
      "Requirement already satisfied: numpy>=1.22.4 in c:\\users\\sangh\\appdata\\local\\programs\\python\\python39\\lib\\site-packages (from pandas) (1.26.4)\n",
      "Requirement already satisfied: python-dateutil>=2.8.2 in c:\\users\\sangh\\appdata\\roaming\\python\\python39\\site-packages (from pandas) (2.9.0.post0)\n",
      "Requirement already satisfied: six>=1.5 in c:\\users\\sangh\\appdata\\roaming\\python\\python39\\site-packages (from python-dateutil>=2.8.2->pandas) (1.16.0)\n",
      "Note: you may need to restart the kernel to use updated packages.\n"
     ]
    },
    {
     "name": "stderr",
     "output_type": "stream",
     "text": [
      "WARNING: You are using pip version 21.1.1; however, version 24.0 is available.\n",
      "You should consider upgrading via the 'c:\\Users\\sangh\\AppData\\Local\\Programs\\Python\\Python39\\python.exe -m pip install --upgrade pip' command.\n"
     ]
    },
    {
     "name": "stdout",
     "output_type": "stream",
     "text": [
      "Requirement already satisfied: matplotlib in c:\\users\\sangh\\appdata\\local\\programs\\python\\python39\\lib\\site-packages (3.8.4)\n",
      "Requirement already satisfied: pyparsing>=2.3.1 in c:\\users\\sangh\\appdata\\local\\programs\\python\\python39\\lib\\site-packages (from matplotlib) (3.1.2)\n",
      "Requirement already satisfied: numpy>=1.21 in c:\\users\\sangh\\appdata\\local\\programs\\python\\python39\\lib\\site-packages (from matplotlib) (1.26.4)\n",
      "Requirement already satisfied: packaging>=20.0 in c:\\users\\sangh\\appdata\\roaming\\python\\python39\\site-packages (from matplotlib) (24.0)\n",
      "Requirement already satisfied: pillow>=8 in c:\\users\\sangh\\appdata\\local\\programs\\python\\python39\\lib\\site-packages (from matplotlib) (10.3.0)\n",
      "Requirement already satisfied: importlib-resources>=3.2.0 in c:\\users\\sangh\\appdata\\local\\programs\\python\\python39\\lib\\site-packages (from matplotlib) (6.4.0)\n",
      "Requirement already satisfied: kiwisolver>=1.3.1 in c:\\users\\sangh\\appdata\\local\\programs\\python\\python39\\lib\\site-packages (from matplotlib) (1.4.5)\n",
      "Requirement already satisfied: cycler>=0.10 in c:\\users\\sangh\\appdata\\local\\programs\\python\\python39\\lib\\site-packages (from matplotlib) (0.12.1)\n",
      "Requirement already satisfied: python-dateutil>=2.7 in c:\\users\\sangh\\appdata\\roaming\\python\\python39\\site-packages (from matplotlib) (2.9.0.post0)\n",
      "Requirement already satisfied: contourpy>=1.0.1 in c:\\users\\sangh\\appdata\\local\\programs\\python\\python39\\lib\\site-packages (from matplotlib) (1.2.1)\n",
      "Requirement already satisfied: fonttools>=4.22.0 in c:\\users\\sangh\\appdata\\local\\programs\\python\\python39\\lib\\site-packages (from matplotlib) (4.51.0)\n",
      "Requirement already satisfied: zipp>=3.1.0 in c:\\users\\sangh\\appdata\\roaming\\python\\python39\\site-packages (from importlib-resources>=3.2.0->matplotlib) (3.18.1)\n",
      "Requirement already satisfied: six>=1.5 in c:\\users\\sangh\\appdata\\roaming\\python\\python39\\site-packages (from python-dateutil>=2.7->matplotlib) (1.16.0)\n",
      "Note: you may need to restart the kernel to use updated packages.\n"
     ]
    },
    {
     "name": "stderr",
     "output_type": "stream",
     "text": [
      "WARNING: You are using pip version 21.1.1; however, version 24.0 is available.\n",
      "You should consider upgrading via the 'c:\\Users\\sangh\\AppData\\Local\\Programs\\Python\\Python39\\python.exe -m pip install --upgrade pip' command.\n"
     ]
    },
    {
     "name": "stdout",
     "output_type": "stream",
     "text": [
      "Requirement already satisfied: seaborn in c:\\users\\sangh\\appdata\\local\\programs\\python\\python39\\lib\\site-packages (0.13.2)\n",
      "Requirement already satisfied: pandas>=1.2 in c:\\users\\sangh\\appdata\\local\\programs\\python\\python39\\lib\\site-packages (from seaborn) (2.2.2)\n",
      "Requirement already satisfied: matplotlib!=3.6.1,>=3.4 in c:\\users\\sangh\\appdata\\local\\programs\\python\\python39\\lib\\site-packages (from seaborn) (3.8.4)\n",
      "Requirement already satisfied: numpy!=1.24.0,>=1.20 in c:\\users\\sangh\\appdata\\local\\programs\\python\\python39\\lib\\site-packages (from seaborn) (1.26.4)\n",
      "Requirement already satisfied: cycler>=0.10 in c:\\users\\sangh\\appdata\\local\\programs\\python\\python39\\lib\\site-packages (from matplotlib!=3.6.1,>=3.4->seaborn) (0.12.1)\n",
      "Requirement already satisfied: contourpy>=1.0.1 in c:\\users\\sangh\\appdata\\local\\programs\\python\\python39\\lib\\site-packages (from matplotlib!=3.6.1,>=3.4->seaborn) (1.2.1)\n",
      "Requirement already satisfied: pillow>=8 in c:\\users\\sangh\\appdata\\local\\programs\\python\\python39\\lib\\site-packages (from matplotlib!=3.6.1,>=3.4->seaborn) (10.3.0)\n",
      "Requirement already satisfied: kiwisolver>=1.3.1 in c:\\users\\sangh\\appdata\\local\\programs\\python\\python39\\lib\\site-packages (from matplotlib!=3.6.1,>=3.4->seaborn) (1.4.5)\n",
      "Requirement already satisfied: pyparsing>=2.3.1 in c:\\users\\sangh\\appdata\\local\\programs\\python\\python39\\lib\\site-packages (from matplotlib!=3.6.1,>=3.4->seaborn) (3.1.2)\n",
      "Requirement already satisfied: importlib-resources>=3.2.0 in c:\\users\\sangh\\appdata\\local\\programs\\python\\python39\\lib\\site-packages (from matplotlib!=3.6.1,>=3.4->seaborn) (6.4.0)\n",
      "Requirement already satisfied: python-dateutil>=2.7 in c:\\users\\sangh\\appdata\\roaming\\python\\python39\\site-packages (from matplotlib!=3.6.1,>=3.4->seaborn) (2.9.0.post0)\n",
      "Requirement already satisfied: packaging>=20.0 in c:\\users\\sangh\\appdata\\roaming\\python\\python39\\site-packages (from matplotlib!=3.6.1,>=3.4->seaborn) (24.0)\n",
      "Requirement already satisfied: fonttools>=4.22.0 in c:\\users\\sangh\\appdata\\local\\programs\\python\\python39\\lib\\site-packages (from matplotlib!=3.6.1,>=3.4->seaborn) (4.51.0)\n",
      "Requirement already satisfied: zipp>=3.1.0 in c:\\users\\sangh\\appdata\\roaming\\python\\python39\\site-packages (from importlib-resources>=3.2.0->matplotlib!=3.6.1,>=3.4->seaborn) (3.18.1)\n",
      "Requirement already satisfied: pytz>=2020.1 in c:\\users\\sangh\\appdata\\local\\programs\\python\\python39\\lib\\site-packages (from pandas>=1.2->seaborn) (2024.1)\n",
      "Requirement already satisfied: tzdata>=2022.7 in c:\\users\\sangh\\appdata\\local\\programs\\python\\python39\\lib\\site-packages (from pandas>=1.2->seaborn) (2024.1)\n",
      "Requirement already satisfied: six>=1.5 in c:\\users\\sangh\\appdata\\roaming\\python\\python39\\site-packages (from python-dateutil>=2.7->matplotlib!=3.6.1,>=3.4->seaborn) (1.16.0)\n",
      "Note: you may need to restart the kernel to use updated packages.\n"
     ]
    },
    {
     "name": "stderr",
     "output_type": "stream",
     "text": [
      "WARNING: You are using pip version 21.1.1; however, version 24.0 is available.\n",
      "You should consider upgrading via the 'c:\\Users\\sangh\\AppData\\Local\\Programs\\Python\\Python39\\python.exe -m pip install --upgrade pip' command.\n"
     ]
    }
   ],
   "source": [
    "%pip install pandas\n",
    "%pip install matplotlib\n",
    "%pip install seaborn"
   ]
  },
  {
   "cell_type": "code",
   "execution_count": 25,
   "metadata": {},
   "outputs": [],
   "source": [
    "from mindee import Client, PredictResponse, product\n",
    "import random\n",
    "import pandas as pd\n",
    "import glob\n",
    "import matplotlib.pyplot as plt\n",
    "import seaborn as sns\n",
    "import requests\n",
    "sns.set()"
   ]
  },
  {
   "cell_type": "code",
   "execution_count": 26,
   "metadata": {},
   "outputs": [],
   "source": [
    "def extract_expenses_data(api_response):\n",
    "    date = api_response.date.value\n",
    "    category = api_response.category.value\n",
    "    time = api_response.time.value\n",
    "    amount = api_response.total_amount.value\n",
    "    filename = api_response.filename\n",
    "\n",
    "    return date, amount, filename, category, time\n",
    "\n",
    "def convert_time_to_meal_type(time, hour_max=17, hour_min=6):\n",
    "    hour_digits = time[:2]\n",
    "    if int(hour_digits)<hour_max and int(hour_digits)>hour_min:\n",
    "        meal_type = \"Lunch\"\n",
    "    else:\n",
    "        meal_type = \"Dinner\"\n",
    "    return meal_type\n",
    "\n",
    "def create_table(date_list, amount_list, meal_type, time_list, category_list, filenames_list):\n",
    "    df = pd.DataFrame(\n",
    "        {\"date\":date_list, \"amount\":amount_list, \"meal_type\":meal_type, \n",
    "         \"time\":time_list, \"category\":category_list, \"filename\":filenames_list}\n",
    "    )\n",
    "    return df\n"
   ]
  },
  {
   "cell_type": "code",
   "execution_count": 45,
   "metadata": {},
   "outputs": [
    {
     "name": "stdout",
     "output_type": "stream",
     "text": [
      "{\"api_request\": {\"error\": {}, \"resources\": [\"document\"], \"status\": \"success\", \"status_code\": 201, \"url\": \"https://api.mindee.net/v1/products/mindee/expense_receipts/v5/predict\"}, \"document\": {\"id\": \"2ed21984-1a5e-4add-aa5c-5f358509e83f\", \"inference\": {\"extras\": {}, \"finished_at\": \"2024-05-15T21:57:58.131836\", \"is_rotation_applied\": true, \"pages\": [{\"extras\": {}, \"id\": 0, \"orientation\": {\"value\": 0}, \"prediction\": {\"category\": {\"confidence\": 0.71, \"value\": \"miscellaneous\"}, \"date\": {\"confidence\": 0.99, \"polygon\": [[0.027, 0.287], [0.208, 0.287], [0.208, 0.301], [0.027, 0.301]], \"value\": \"2024-04-24\"}, \"document_type\": {\"confidence\": 1.0, \"value\": \"EXPENSE RECEIPT\"}, \"line_items\": [{\"confidence\": 0.85, \"description\": \"POP YGO YAMI YUGI DK 776662 356/107\", \"polygon\": [[0.028, 0.319], [0.885, 0.319], [0.885, 0.349], [0.028, 0.349]], \"quantity\": null, \"total_amount\": 16.99, \"unit_price\": null}, {\"confidence\": 0.96, \"description\": \"POP TKG KEN KANEKI FINAL BTL\", \"polygon\": [[0.028, 0.346], [0.888, 0.346], [0.888, 0.361], [0.028, 0.361]], \"quantity\": null, \"total_amount\": 16.99, \"unit_price\": null}], \"locale\": {\"confidence\": 0.76, \"country\": \"CA\", \"currency\": \"CAD\", \"language\": \"en\", \"value\": \"en-CA\"}, \"orientation\": {\"confidence\": 0.99, \"degrees\": 0}, \"subcategory\": {\"confidence\": 0.0, \"value\": null}, \"supplier_address\": {\"confidence\": 0.89, \"polygon\": [[0.153, 0.223], [0.84, 0.223], [0.84, 0.252], [0.153, 0.252]], \"value\": \"warran t y 3 does not cover damage brampton on l6r3k7\"}, \"supplier_company_registrations\": [{\"confidence\": 0.99, \"polygon\": [[0.454, 0.261], [0.65, 0.261], [0.65, 0.277], [0.454, 0.277]], \"type\": \"GST_HST_CA\", \"value\": \"136105129\"}], \"supplier_name\": {\"confidence\": 0.88, \"polygon\": [[0.048, 0.14], [0.916, 0.14], [0.916, 0.188], [0.048, 0.188]], \"raw_value\": \"Gamestop\", \"value\": \"GAMESTOP\"}, \"supplier_phone_number\": {\"confidence\": 0.0, \"polygon\": [], \"value\": null}, \"taxes\": [{\"base\": 33.98, \"code\": \"HST\", \"confidence\": 0.88, \"polygon\": [[0.413, 0.395], [0.892, 0.395], [0.892, 0.425], [0.413, 0.425]], \"rate\": 13.0, \"value\": 4.42}], \"time\": {\"confidence\": 0.99, \"polygon\": [[0.235, 0.287], [0.344, 0.287], [0.344, 0.301], [0.235, 0.301]], \"value\": \"12:22\"}, \"tip\": {\"confidence\": 0.0, \"polygon\": [], \"value\": null}, \"total_amount\": {\"confidence\": 0.99, \"polygon\": [[0.378, 0.45], [0.49, 0.45], [0.49, 0.465], [0.378, 0.465]], \"value\": 38.4}, \"total_net\": {\"confidence\": 0.99, \"polygon\": [[0.779, 0.379], [0.892, 0.379], [0.892, 0.398], [0.779, 0.398]], \"value\": 33.98}, \"total_tax\": {\"confidence\": 0.88, \"polygon\": [], \"value\": 4.42}}}], \"prediction\": {\"category\": {\"confidence\": 0.71, \"value\": \"miscellaneous\"}, \"date\": {\"confidence\": 0.99, \"page_id\": 0, \"polygon\": [[0.027, 0.287], [0.208, 0.287], [0.208, 0.301], [0.027, 0.301]], \"value\": \"2024-04-24\"}, \"document_type\": {\"confidence\": 1.0, \"value\": \"EXPENSE RECEIPT\"}, \"line_items\": [{\"confidence\": 0.85, \"description\": \"POP YGO YAMI YUGI DK 776662 356/107\", \"page_id\": 0, \"polygon\": [[0.028, 0.319], [0.885, 0.319], [0.885, 0.349], [0.028, 0.349]], \"quantity\": null, \"total_amount\": 16.99, \"unit_price\": null}, {\"confidence\": 0.96, \"description\": \"POP TKG KEN KANEKI FINAL BTL\", \"page_id\": 0, \"polygon\": [[0.028, 0.346], [0.888, 0.346], [0.888, 0.361], [0.028, 0.361]], \"quantity\": null, \"total_amount\": 16.99, \"unit_price\": null}], \"locale\": {\"confidence\": 0.76, \"country\": \"CA\", \"currency\": \"CAD\", \"language\": \"en\", \"value\": \"en-CA\"}, \"subcategory\": {\"confidence\": 0.0, \"value\": null}, \"supplier_address\": {\"confidence\": 0.89, \"page_id\": 0, \"polygon\": [[0.153, 0.223], [0.84, 0.223], [0.84, 0.252], [0.153, 0.252]], \"value\": \"warran t y 3 does not cover damage brampton on l6r3k7\"}, \"supplier_company_registrations\": [{\"confidence\": 0.99, \"page_id\": 0, \"polygon\": [[0.454, 0.261], [0.65, 0.261], [0.65, 0.277], [0.454, 0.277]], \"type\": \"GST_HST_CA\", \"value\": \"136105129\"}], \"supplier_name\": {\"confidence\": 0.88, \"page_id\": 0, \"polygon\": [[0.048, 0.14], [0.916, 0.14], [0.916, 0.188], [0.048, 0.188]], \"raw_value\": \"Gamestop\", \"value\": \"GAMESTOP\"}, \"supplier_phone_number\": {\"confidence\": 0.0, \"page_id\": null, \"polygon\": [], \"value\": null}, \"taxes\": [{\"base\": 33.98, \"code\": \"HST\", \"confidence\": 0.88, \"page_id\": 0, \"polygon\": [[0.413, 0.395], [0.892, 0.395], [0.892, 0.425], [0.413, 0.425]], \"rate\": 13.0, \"value\": 4.42}], \"time\": {\"confidence\": 0.99, \"page_id\": 0, \"polygon\": [[0.235, 0.287], [0.344, 0.287], [0.344, 0.301], [0.235, 0.301]], \"value\": \"12:22\"}, \"tip\": {\"confidence\": 0.0, \"page_id\": null, \"polygon\": [], \"value\": null}, \"total_amount\": {\"confidence\": 0.99, \"page_id\": 0, \"polygon\": [[0.378, 0.45], [0.49, 0.45], [0.49, 0.465], [0.378, 0.465]], \"value\": 38.4}, \"total_net\": {\"confidence\": 0.99, \"page_id\": 0, \"polygon\": [[0.779, 0.379], [0.892, 0.379], [0.892, 0.398], [0.779, 0.398]], \"value\": 33.98}, \"total_tax\": {\"confidence\": 0.88, \"page_id\": null, \"polygon\": [], \"value\": 4.42}}, \"processing_time\": 1.006, \"product\": {\"features\": [\"locale\", \"category\", \"subcategory\", \"document_type\", \"date\", \"time\", \"total_amount\", \"total_net\", \"total_tax\", \"tip\", \"taxes\", \"supplier_name\", \"supplier_company_registrations\", \"supplier_address\", \"supplier_phone_number\", \"orientation\", \"line_items\"], \"name\": \"mindee/expense_receipts\", \"type\": \"standard\", \"version\": \"5.1\"}, \"started_at\": \"2024-05-15T21:57:57.125862\"}, \"n_pages\": 1, \"name\": \"IMG_0017.jpg\"}}\n"
     ]
    }
   ],
   "source": [
    "url = \"https://api.mindee.net/v1/products/mindee/expense_receipts/v5/predict\"\n",
    "\n",
    "with open(\"./expense_receipts/IMG_0017.jpg\", \"rb\") as myfile:\n",
    "    files = {\"document\": myfile}\n",
    "    headers = {\"Authorization\": \"9dc96ec403fdc8d5fca0e35c45df9d83\"}\n",
    "    response = requests.post(url, files=files, headers=headers)\n",
    "    print(response.text)"
   ]
  }
 ],
 "metadata": {
  "kernelspec": {
   "display_name": "Python 3",
   "language": "python",
   "name": "python3"
  },
  "language_info": {
   "codemirror_mode": {
    "name": "ipython",
    "version": 3
   },
   "file_extension": ".py",
   "mimetype": "text/x-python",
   "name": "python",
   "nbconvert_exporter": "python",
   "pygments_lexer": "ipython3",
   "version": "3.9.5"
  }
 },
 "nbformat": 4,
 "nbformat_minor": 2
}
